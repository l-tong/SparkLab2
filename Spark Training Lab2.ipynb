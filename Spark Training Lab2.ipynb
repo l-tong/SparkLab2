{
    "metadata": {
        "kernelspec": {
            "name": "python2", 
            "display_name": "Python 2 with Spark 1.6", 
            "language": "python"
        }, 
        "language_info": {
            "version": "2.7.11", 
            "file_extension": ".py", 
            "nbconvert_exporter": "python", 
            "codemirror_mode": {
                "version": 2, 
                "name": "ipython"
            }, 
            "name": "python", 
            "mimetype": "text/x-python", 
            "pygments_lexer": "ipython2"
        }
    }, 
    "cells": [
        {
            "metadata": {}, 
            "cell_type": "markdown", 
            "source": "# Lab 2 - Spark SQL\nThis lab will show you how to work with SparkSQL.  It's meant to be self-guided, but don't hesitate to ask your presentor for help.  "
        }, 
        {
            "metadata": {}, 
            "cell_type": "markdown", 
            "source": "## Step 1 - Getting started: Create a [SQL Context](https://spark.apache.org/docs/1.6.2/api/python/pyspark.sql.html#pyspark.sql.SQLContext)\n<br>\n <div class=\"panel-group\" id=\"accordion-1\">\n  <div class=\"panel panel-default\">\n    <div class=\"panel-heading\">\n      <h4 class=\"panel-title\">\n        <a data-toggle=\"collapse\" data-parent=\"#accordion-1\" href=\"#collapse1-1\">\n        Hint 1</a>\n      </h4>\n    </div>\n    <div id=\"collapse1-1\" class=\"panel-collapse collapse\">\n      <div class=\"panel-body\"><i>SQLContext</i> is not included by default.   You need to import it from <i>pyspark.sql</i></div>\n    </div>\n  </div>\n  <div class=\"panel panel-default\">\n    <div class=\"panel-heading\">\n      <h4 class=\"panel-title\">\n        <a data-toggle=\"collapse\" data-parent=\"#accordion-1\" href=\"#collapse2-1\">\n        Hint 2</a>\n      </h4>\n    </div>\n    <div id=\"collapse2-1\" class=\"panel-collapse collapse\">\n      <div class=\"panel-body\"><i>SQLContext()</i> takes a single parameter which is the current Spark context.</div>\n    </div>\n  </div>\n  <div class=\"panel panel-default\">\n    <div class=\"panel-heading\">\n      <h4 class=\"panel-title\">\n        <a data-toggle=\"collapse\" data-parent=\"#accordion-1\" href=\"#collapse3-1\">\n        Hint 3</a>\n      </h4>\n    </div>\n    <div id=\"collapse3-1\" class=\"panel-collapse collapse\">\n      <div class=\"panel-body\">Type:<br>\n\nfrom pyspark.sql import SQLContext<br>\nsqlContext = SQLContext(sc)<br></div>\n    </div>\n  </div>\n</div> \n"
        }, 
        {
            "metadata": {
                "collapsed": true
            }, 
            "cell_type": "code", 
            "outputs": [], 
            "execution_count": 1, 
            "source": "#Import the SparkSQL library and connect to the current Spark context\n\nfrom pyspark.sql import SQLContext\nsqlContext = SQLContext(sc)"
        }, 
        {
            "metadata": {}, 
            "cell_type": "markdown", 
            "source": "## Step 2 - Download a JSON Recordset to work with\nLet's download the data, we can run commands on the console of the server (or docker image) that the notebook environment is using. To do so we simply put a \"!\" in front of the command that we want to run. For example:\n\n!pwd\n\nTo get the data we will download a file to the environment. Simple run these two commands, the first just ensures that the file is removed if it exists:\n\n!rm world_bank.json.gz -f <br>\n!wget https://raw.githubusercontent.com/bradenrc/sparksql_pot/master/world_bank.json.gz<br><br>\n <div class=\"panel-group\" id=\"accordion-2\">\n  <div class=\"panel panel-default\">\n    <div class=\"panel-heading\">\n      <h4 class=\"panel-title\">\n        <a data-toggle=\"collapse\" data-parent=\"#accordion-1\" href=\"#collapse1-2\">\n        Advanced Optional 1</a>\n      </h4>\n    </div>\n    <div id=\"collapse1-2\" class=\"panel-collapse collapse\">\n      <div class=\"panel-body\">Comment out the rm statement i.e. #!rm and re-run this section.   What is the name of the downloaded file?</div>\n    </div>\n  </div>\n  <div class=\"panel panel-default\">\n    <div class=\"panel-heading\">\n      <h4 class=\"panel-title\">\n        <a data-toggle=\"collapse\" data-parent=\"#accordion-2\" href=\"#collapse2-2\">\n        Advanced Optional 2</a>\n      </h4>\n    </div>\n    <div id=\"collapse2-2\" class=\"panel-collapse collapse\">\n      <div class=\"panel-body\">Add !ls to see all the files currently in storage.   Try running !mkdir testdir</div>\n    </div>\n  </div>\n  <div class=\"panel panel-default\">\n    <div class=\"panel-heading\">\n      <h4 class=\"panel-title\">\n        <a data-toggle=\"collapse\" data-parent=\"#accordion-2\" href=\"#collapse3-2\">\n        Advanced Optional 3</a>\n      </h4>\n    </div>\n    <div id=\"collapse3-2\" class=\"panel-collapse collapse\">\n      <div class=\"panel-body\">Clean up all added files/directories.   Use !rmdir to remove a directory.</div>\n    </div>\n  </div>\n</div> \n"
        }, 
        {
            "metadata": {
                "collapsed": false
            }, 
            "cell_type": "code", 
            "outputs": [
                {
                    "text": "--2017-02-09 11:46:23--  https://raw.githubusercontent.com/bradenrc/sparksql_pot/master/world_bank.json.gz\nResolving raw.githubusercontent.com (raw.githubusercontent.com)... 151.101.48.133\nConnecting to raw.githubusercontent.com (raw.githubusercontent.com)|151.101.48.133|:443... connected.\nHTTP request sent, awaiting response... 200 OK\nLength: 446287 (436K) [application/octet-stream]\nSaving to: \u2018world_bank.json.gz\u2019\n\n100%[======================================>] 446,287     --.-K/s   in 0.02s   \n\n2017-02-09 11:46:23 (19.2 MB/s) - \u2018world_bank.json.gz\u2019 saved [446287/446287]\n\n", 
                    "name": "stdout", 
                    "output_type": "stream"
                }
            ], 
            "execution_count": 2, 
            "source": "#Download file here\n!rm world_bank.json.gz -f\n!wget https://raw.githubusercontent.com/bradenrc/sparksql_pot/master/world_bank.json.gz"
        }, 
        {
            "metadata": {}, 
            "cell_type": "markdown", 
            "source": "## Step 3 - Create a Dataframe \n<br>\nUse the <a href=\"https://spark.apache.org/docs/1.6.2/api/python/pyspark.sql.html#pyspark.sql.SQLContext\">SQLContext</a> you created earlier to read the World Bank json data - <i>world_bank.json.gz</i> and return it as a <a href=\"https://spark.apache.org/docs/1.6.2/api/python/pyspark.sql.html#pyspark.sql.DataFrame\">Dataframe</a><br><br>\n <div class=\"panel-group\" id=\"accordion-3\">\n  <div class=\"panel panel-default\">\n    <div class=\"panel-heading\">\n      <h4 class=\"panel-title\">\n        <a data-toggle=\"collapse\" data-parent=\"#accordion-3\" href=\"#collapse1-3\">\n        Hint 1</a>\n      </h4>\n    </div>\n    <div id=\"collapse1-3\" class=\"panel-collapse collapse\">\n      <div class=\"panel-body\">Use the <i>read</i> variable in <i>SQLContext</i> to return a Dataframe reader</div>\n    </div>\n  </div>\n  <div class=\"panel panel-default\">\n    <div class=\"panel-heading\">\n      <h4 class=\"panel-title\">\n        <a data-toggle=\"collapse\" data-parent=\"#accordion-3\" href=\"#collapse2-3\">\n        Hint 2</a>\n      </h4>\n    </div>\n    <div id=\"collapse2-3\" class=\"panel-collapse collapse\">\n      <div class=\"panel-body\">Use the <i>json()</i> method in Dataframe to read the file.   Note that the method handles a gzipped file format.</div>\n    </div>\n  </div>\n  <div class=\"panel panel-default\">\n    <div class=\"panel-heading\">\n      <h4 class=\"panel-title\">\n        <a data-toggle=\"collapse\" data-parent=\"#accordion-3\" href=\"#collapse3-3\">\n        Hint 3</a>\n      </h4>\n    </div>\n    <div id=\"collapse3-3\" class=\"panel-collapse collapse\">\n      <div class=\"panel-body\">To create the Dataframe type:<br>\n\nexample1_df = sqlContext.read.json(\"world_bank.json.gz\")<br></div>\n    </div>\n  </div>\n  <div class=\"panel panel-default\">\n    <div class=\"panel-heading\">\n      <h4 class=\"panel-title\">\n        <a data-toggle=\"collapse\" data-parent=\"#accordion-4\" href=\"#collapse4-3\">\n        Advanced Optional</a>\n      </h4>\n    </div>\n    <div id=\"collapse4-3\" class=\"panel-collapse collapse\">\n      <div class=\"panel-body\">Obtain the same result by using <i>textFile()</i> to read the file as RDD and then convert to a Dataframe</div>\n    </div>\n  </div>\n</div> \n"
        }, 
        {
            "metadata": {
                "collapsed": false
            }, 
            "cell_type": "code", 
            "outputs": [], 
            "execution_count": 4, 
            "source": "#Create the Dataframe here:\n\ndf = sqlContext.read.format('json').load(\"world_bank.json.gz\")"
        }, 
        {
            "metadata": {}, 
            "cell_type": "markdown", 
            "source": " ## Step 3.1 - Show the Dataframe schema\n <br>\n <div class=\"panel-group\" id=\"accordion-31\">\n  <div class=\"panel panel-default\">\n    <div class=\"panel-heading\">\n      <h4 class=\"panel-title\">\n        <a data-toggle=\"collapse\" data-parent=\"#accordion-1\" href=\"#collapse1-31\">\n        Hint 1</a>\n      </h4>\n    </div>\n    <div id=\"collapse1-31\" class=\"panel-collapse collapse\">\n      <div class=\"panel-body\"><h3>We can look at the schema with this command:</h3>\n\nType: <br>\nexample1_df.printSchema()</div>\n    </div>\n  </div>\n  <div class=\"panel panel-default\">\n    <div class=\"panel-heading\">\n      <h4 class=\"panel-title\">\n        <a data-toggle=\"collapse\" data-parent=\"#accordion-31\" href=\"#collapse2-31\">\n        Advanced Optional 1</a>\n      </h4>\n    </div>\n    <div id=\"collapse2-31\" class=\"panel-collapse collapse\">\n      <div class=\"panel-body\">Get the dataframe columns.   Try using command-completion (use TAB after the .) to obtain the list of possible methods/values</div>\n    </div>\n  </div>\n  <div class=\"panel panel-default\">\n    <div class=\"panel-heading\">\n      <h4 class=\"panel-title\">\n        <a data-toggle=\"collapse\" data-parent=\"#accordion-31\" href=\"#collapse3-31\">\n        Advanced Optional 2</a>\n      </h4>\n    </div>\n    <div id=\"collapse3-31\" class=\"panel-collapse collapse\">\n      <div class=\"panel-body\">Convert the dataframe back to JSON and print the first value</div>\n    </div>\n  </div>\n</div>"
        }, 
        {
            "metadata": {
                "collapsed": false
            }, 
            "cell_type": "code", 
            "outputs": [
                {
                    "metadata": {}, 
                    "output_type": "execute_result", 
                    "execution_count": 7, 
                    "data": {
                        "text/plain": "[Row(_id=Row($oid=u'52b213b38594d8a2be17c780'), approvalfy=u'1999', board_approval_month=u'November', boardapprovaldate=u'2013-11-12T00:00:00Z', borrower=u'FEDERAL DEMOCRATIC REPUBLIC OF ETHIOPIA', closingdate=u'2018-07-07T00:00:00Z', country_namecode=u'Federal Democratic Republic of Ethiopia!$!ET', countrycode=u'ET', countryname=u'Federal Democratic Republic of Ethiopia', countryshortname=u'Ethiopia', docty=u'Project Information Document,Indigenous Peoples Plan,Project Information Document', envassesmentcategorycode=u'C', grantamt=0, ibrdcommamt=0, id=u'P129828', idacommamt=130000000, impagency=u'MINISTRY OF EDUCATION', lendinginstr=u'Investment Project Financing', lendinginstrtype=u'IN', lendprojectcost=550000000, majorsector_percent=[Row(Name=u'Education', Percent=46), Row(Name=u'Education', Percent=26), Row(Name=u'Public Administration, Law, and Justice', Percent=16), Row(Name=u'Education', Percent=12)], mjsector_namecode=[Row(code=u'EX', name=u'Education'), Row(code=u'EX', name=u'Education'), Row(code=u'BX', name=u'Public Administration, Law, and Justice'), Row(code=u'EX', name=u'Education')], mjtheme=[u'Human development'], mjtheme_namecode=[Row(code=u'8', name=u'Human development'), Row(code=u'11', name=u'')], mjthemecode=u'8,11', prodline=u'PE', prodlinetext=u'IBRD/IDA', productlinetype=u'L', project_abstract=Row(cdata=u'The development objective of the Second Phase of General Education Quality Improvement Project for Ethiopia is to improve learning conditions in primary and secondary schools and strengthen institutions at different levels of educational administration. The project has six components. The first component is curriculum, textbooks, assessment, examinations, and inspection. This component will support improvement of learning conditions in grades KG-12 by providing increased access to teaching and learning materials and through improvements to the curriculum by assessing the strengths and weaknesses of the current curriculum. This component has following four sub-components: (i) curriculum reform and implementation; (ii) teaching and learning materials; (iii) assessment and examinations; and (iv) inspection. The second component is teacher development program (TDP). This component will support improvements in learning conditions in both primary and secondary schools by advancing the quality of teaching in general education through: (a) enhancing the training of pre-service teachers in teacher education institutions; and (b) improving the quality of in-service teacher training. This component has following three sub-components: (i) pre-service teacher training; (ii) in-service teacher training; and (iii) licensing and relicensing of teachers and school leaders. The third component is school improvement plan. This component will support the strengthening of school planning in order to improve learning outcomes, and to partly fund the school improvement plans through school grants. It has following two sub-components: (i) school improvement plan; and (ii) school grants. The fourth component is management and capacity building, including education management information systems (EMIS). This component will support management and capacity building aspect of the project. This component has following three sub-components: (i) capacity building for education planning and management; (ii) capacity building for school planning and management; and (iii) EMIS. The fifth component is improving the quality of learning and teaching in secondary schools and universities through the use of information and communications technology (ICT). It has following five sub-components: (i) national policy and institution for ICT in general education; (ii) national ICT infrastructure improvement plan for general education; (iii) develop an integrated monitoring, evaluation, and learning system specifically for the ICT component; (iv) teacher professional development in the use of ICT; and (v) provision of limited number of e-Braille display readers with the possibility to scale up to all secondary education schools based on the successful implementation and usage of the readers. The sixth component is program coordination, monitoring and evaluation, and communication. It will support institutional strengthening by developing capacities in all aspects of program coordination, monitoring and evaluation; a new sub-component on communications will support information sharing for better management and accountability. It has following three sub-components: (i) program coordination; (ii) monitoring and evaluation (M and E); and (iii) communication.'), project_name=u'Ethiopia General Education Quality Improvement Project II', projectdocs=[Row(DocDate=u'28-AUG-2013', DocType=u'PID', DocTypeDesc=u'Project Information Document (PID),  Vol.', DocURL=u'http://www-wds.worldbank.org/servlet/WDSServlet?pcont=details&eid=090224b081e545fb_1_0', EntityID=u'090224b081e545fb_1_0'), Row(DocDate=u'01-JUL-2013', DocType=u'IP', DocTypeDesc=u'Indigenous Peoples Plan (IP),  Vol.1 of 1', DocURL=u'http://www-wds.worldbank.org/servlet/WDSServlet?pcont=details&eid=000442464_20130920111729', EntityID=u'000442464_20130920111729'), Row(DocDate=u'22-NOV-2012', DocType=u'PID', DocTypeDesc=u'Project Information Document (PID),  Vol.', DocURL=u'http://www-wds.worldbank.org/servlet/WDSServlet?pcont=details&eid=090224b0817b19e2_1_0', EntityID=u'090224b0817b19e2_1_0')], projectfinancialtype=u'IDA', projectstatusdisplay=u'Active', regionname=u'Africa', sector=[Row(Name=u'Primary education'), Row(Name=u'Secondary education'), Row(Name=u'Public administration- Other social services'), Row(Name=u'Tertiary education')], sector1=Row(Name=u'Primary education', Percent=46), sector2=Row(Name=u'Secondary education', Percent=26), sector3=Row(Name=u'Public administration- Other social services', Percent=16), sector4=Row(Name=u'Tertiary education', Percent=12), sector_namecode=[Row(code=u'EP', name=u'Primary education'), Row(code=u'ES', name=u'Secondary education'), Row(code=u'BS', name=u'Public administration- Other social services'), Row(code=u'ET', name=u'Tertiary education')], sectorcode=u'ET,BS,ES,EP', source=u'IBRD', status=u'Active', supplementprojectflg=u'N', theme1=Row(Name=u'Education for all', Percent=100), theme_namecode=[Row(code=u'65', name=u'Education for all')], themecode=u'65', totalamt=130000000, totalcommamt=130000000, url=u'http://www.worldbank.org/projects/P129828/ethiopia-general-education-quality-improvement-project-ii?lang=en')]"
                    }
                }
            ], 
            "execution_count": 7, 
            "source": "#Print out the schema\n\ndf.take(1)\n#df.printSchema()"
        }, 
        {
            "metadata": {}, 
            "cell_type": "markdown", 
            "source": "## Step 3.2 - Using the Dataframe\n<br>\nDataframes are a subset of RDDs and can be similarly transformed.  You can map and filter them.\n<br>Take a look at the first two rows of data using the [take()](http://spark.apache.org/docs/latest/api/python/pyspark.sql.html?highlight=take#pyspark.sql.DataFrame.take) function.<br>\n<div class=\"panel-group\" id=\"accordion-1\">\n  <div class=\"panel panel-default\">\n    <div class=\"panel-heading\">\n      <h4 class=\"panel-title\">\n        <a data-toggle=\"collapse\" data-parent=\"#accordion-32\" href=\"#collapse1-32\">\n        Hint 1</a>\n      </h4>\n    </div>\n    <div id=\"collapse1-32\" class=\"panel-collapse collapse\">\n      <div class=\"panel-body\">example1_df.take(2)</div>\n    </div>\n  </div>\n  <div class=\"panel panel-default\">\n    <div class=\"panel-heading\">\n      <h4 class=\"panel-title\">\n        <a data-toggle=\"collapse\" data-parent=\"#accordion-32\" href=\"#collapse2-32\">\n        Advanced Optional 1</a>\n      </h4>\n    </div>\n    <div id=\"collapse2-32\" class=\"panel-collapse collapse\">\n      <div class=\"panel-body\"><i>take()</i> returns data as an RDD list of Row objects.   <i>show()</i> prints the objects to the console.   What is the default number of rows displayed?</div>\n    </div>\n  </div>\n  <div class=\"panel panel-default\">\n    <div class=\"panel-heading\">\n      <h4 class=\"panel-title\">\n        <a data-toggle=\"collapse\" data-parent=\"#accordion-32\" href=\"#collapse3-32\">\n        Advanced Optional 2</a>\n      </h4>\n    </div>\n    <div id=\"collapse3-32\" class=\"panel-collapse collapse\">\n      <div class=\"panel-body\">Save the table as a parquet table.   Use !ls to confirm it was saved.  Use a <i><a href=\"https://spark.apache.org/docs/1.6.2/api/python/pyspark.sql.html#pyspark.sql.DataFrameWriter\"DataFrameWriter></a></i>  What did you see when you ran the ls command?</div>\n    </div>\n  </div>\n</div> \n \n\n"
        }, 
        {
            "metadata": {
                "collapsed": false
            }, 
            "cell_type": "code", 
            "outputs": [
                {
                    "text": "+--------------------+----------+--------------------+--------------------+--------------------+--------------------+--------------------+-----------+--------------------+----------------+--------------------+------------------------+--------+-----------+-------+----------+--------------------+--------------------+----------------+---------------+--------------------+--------------------+--------------------+--------------------+-----------+--------+--------------------+---------------+--------------------+--------------------+--------------------+--------------------+--------------------+--------------------+--------------------+--------------------+--------------------+--------------------+--------------------+--------------------+-----------+------+------+--------------------+--------------------+--------------------+---------+---------+------------+--------------------+\n|                 _id|approvalfy|board_approval_month|   boardapprovaldate|            borrower|         closingdate|    country_namecode|countrycode|         countryname|countryshortname|               docty|envassesmentcategorycode|grantamt|ibrdcommamt|     id|idacommamt|           impagency|        lendinginstr|lendinginstrtype|lendprojectcost| majorsector_percent|   mjsector_namecode|             mjtheme|    mjtheme_namecode|mjthemecode|prodline|        prodlinetext|productlinetype|    project_abstract|        project_name|         projectdocs|projectfinancialtype|projectstatusdisplay|          regionname|              sector|             sector1|             sector2|             sector3|             sector4|     sector_namecode| sectorcode|source|status|supplementprojectflg|              theme1|      theme_namecode|themecode| totalamt|totalcommamt|                 url|\n+--------------------+----------+--------------------+--------------------+--------------------+--------------------+--------------------+-----------+--------------------+----------------+--------------------+------------------------+--------+-----------+-------+----------+--------------------+--------------------+----------------+---------------+--------------------+--------------------+--------------------+--------------------+-----------+--------+--------------------+---------------+--------------------+--------------------+--------------------+--------------------+--------------------+--------------------+--------------------+--------------------+--------------------+--------------------+--------------------+--------------------+-----------+------+------+--------------------+--------------------+--------------------+---------+---------+------------+--------------------+\n|[52b213b38594d8a2...|      1999|            November|2013-11-12T00:00:00Z|FEDERAL DEMOCRATI...|2018-07-07T00:00:00Z|Federal Democrati...|         ET|Federal Democrati...|        Ethiopia|Project Informati...|                       C|       0|          0|P129828| 130000000|MINISTRY OF EDUCA...|Investment Projec...|              IN|      550000000|[[Education,46], ...|[[EX,Education], ...| [Human development]|[[8,Human develop...|       8,11|      PE|            IBRD/IDA|              L|[The development ...|Ethiopia General ...|[[28-AUG-2013,PID...|                 IDA|              Active|              Africa|[[Primary educati...|[Primary educatio...|[Secondary educat...|[Public administr...|[Tertiary educati...|[[EP,Primary educ...|ET,BS,ES,EP|  IBRD|Active|                   N|[Education for al...|[[65,Education fo...|       65|130000000|   130000000|http://www.worldb...|\n|[52b213b38594d8a2...|      2015|            November|2013-11-04T00:00:00Z|GOVERNMENT OF TUN...|                null|Republic of Tunis...|         TN| Republic of Tunisia|         Tunisia|Project Informati...|                       C| 4700000|          0|P144674|         0| MINISTRY OF FINANCE|Specific Investme...|              IN|        5700000|[[Public Administ...|[[BX,Public Admin...|[Economic managem...|[[1,Economic mana...|        1,6|      RE|Recipient Execute...|              L|                null|TN: DTF Social Pr...|[[29-MAR-2013,PID...|               OTHER|              Active|Middle East and N...|[[Public administ...|[Public administr...|[General public a...|                null|                null|[[BS,Public admin...|      BZ,BS|  IBRD|Active|                   N|[Other economic m...|[[24,Other econom...|    54,24|        0|     4700000|http://www.worldb...|\n+--------------------+----------+--------------------+--------------------+--------------------+--------------------+--------------------+-----------+--------------------+----------------+--------------------+------------------------+--------+-----------+-------+----------+--------------------+--------------------+----------------+---------------+--------------------+--------------------+--------------------+--------------------+-----------+--------+--------------------+---------------+--------------------+--------------------+--------------------+--------------------+--------------------+--------------------+--------------------+--------------------+--------------------+--------------------+--------------------+--------------------+-----------+------+------+--------------------+--------------------+--------------------+---------+---------+------------+--------------------+\nonly showing top 2 rows\n\nREADME.md  StockPrices.csv  test.txt  world_bank.json.gz\r\n", 
                    "name": "stdout", 
                    "output_type": "stream"
                }
            ], 
            "execution_count": 16, 
            "source": "#Use take on the DataFrame to pull out 2 rows\n\ndf.show(2)\n#df.take(2)\n#df.write.parquet(\"test.txt\", df.show(2))\n!ls"
        }, 
        {
            "metadata": {}, 
            "cell_type": "markdown", 
            "source": "## Step 4 - Register a Temp Table\n<br>\nSQL works on tables.   Currently we have data in a dataframe, but we have no table identifier for it.   Thus, we want to create a temporary table reference that refers to this dataframe.\n<br>\n<div class=\"panel-group\" id=\"accordion-4\">\n  <div class=\"panel panel-default\">\n    <div class=\"panel-heading\">\n      <h4 class=\"panel-title\">\n        <a data-toggle=\"collapse\" data-parent=\"#accordion-4\" href=\"#collapse1-4\">\n        Hint 1</a>\n      </h4>\n    </div>\n    <div id=\"collapse1-4\" class=\"panel-collapse collapse\">\n      <div class=\"panel-body\">The function is: DataframeObject.registerTempTable(\"name_of_table\")<br>\nCreate a table named \"world_bank\"<br></div>\n    </div>\n  </div>\n  <div class=\"panel panel-default\">\n    <div class=\"panel-heading\">\n      <h4 class=\"panel-title\">\n        <a data-toggle=\"collapse\" data-parent=\"#accordion-4\" href=\"#collapse2-4\">\n        Hint 2</a>\n      </h4>\n    </div>\n    <div id=\"collapse2-4\" class=\"panel-collapse collapse\">\n      <div class=\"panel-body\">example1_df.registerTempTable(\"world_bank\")</div>\n    </div>\n  </div>\n  <div class=\"panel panel-default\">\n    <div class=\"panel-heading\">\n      <h4 class=\"panel-title\">\n        <a data-toggle=\"collapse\" data-parent=\"#accordion-4\" href=\"#collapse3-4\">\n        Advanced Optional 1</a>\n      </h4>\n    </div>\n    <div id=\"collapse3-4\" class=\"panel-collapse collapse\">\n      <div class=\"panel-body\">Use the <i>tables()</i> method in <i>SQLContext</i> to list all tables and their state.  Extra Hint: show()</div>\n    </div>\n  </div>\n  <div class=\"panel panel-default\">\n    <div class=\"panel-heading\">\n      <h4 class=\"panel-title\">\n        <a data-toggle=\"collapse\" data-parent=\"#accordion-4\" href=\"#collapse4-4\">\n        Advanced Optional 2</a>\n      </h4>\n    </div>\n    <div id=\"collapse4-4\" class=\"panel-collapse collapse\">\n      <div class=\"panel-body\">Try creating a second temporary table on the same dataframe.   What does <i>tables()</i> return?</div>\n    </div>\n  </div>\n    <div class=\"panel panel-default\">\n    <div class=\"panel-heading\">\n      <h4 class=\"panel-title\">\n        <a data-toggle=\"collapse\" data-parent=\"#accordion-4\" href=\"#collapse5-4\">\n        Advanced Optional 3</a>\n      </h4>\n    </div>\n    <div id=\"collapse5-4\" class=\"panel-collapse collapse\">\n      <div class=\"panel-body\">Drop the additional temp table.   What does <i>tables()</i> return?</div>\n    </div>\n  </div>\n</div>\n\n"
        }, 
        {
            "metadata": {
                "collapsed": false
            }, 
            "cell_type": "code", 
            "outputs": [], 
            "execution_count": 6, 
            "source": "#Create the table to be referenced via SparkSQL\n\n"
        }, 
        {
            "metadata": {}, 
            "cell_type": "markdown", 
            "source": "## Step 5 - Writing SQL Statements\n<br>\nWrite SQL statements to return two rows from the world_bank table.\n<br>\n <div class=\"panel-group\" id=\"accordion-5\">\n  <div class=\"panel panel-default\">\n    <div class=\"panel-heading\">\n      <h4 class=\"panel-title\">\n        <a data-toggle=\"collapse\" data-parent=\"#accordion-5\" href=\"#collapse1-5\">\n        Hint 1</a>\n      </h4>\n    </div>\n    <div id=\"collapse1-5\" class=\"panel-collapse collapse\">\n      <div class=\"panel-body\">Use the <i>sql()</i> method on your SQLContext</div>\n    </div>\n  </div>\n  <div class=\"panel panel-default\">\n    <div class=\"panel-heading\">\n      <h4 class=\"panel-title\">\n        <a data-toggle=\"collapse\" data-parent=\"#accordion-5\" href=\"#collapse2-5\">\n        Hint 2</a>\n      </h4>\n    </div>\n    <div id=\"collapse2-5\" class=\"panel-collapse collapse\">\n      <div class=\"panel-body\">Use <i>limit</i> (i.e. <i>limit 2</i>) within your SQL statement to limit the number of rows returned.   Use <i>show()</i> to display the values.</div>\n    </div>\n  </div>\n  <div class=\"panel panel-default\">\n    <div class=\"panel-heading\">\n      <h4 class=\"panel-title\">\n        <a data-toggle=\"collapse\" data-parent=\"#accordion-5\" href=\"#collapse3-5\">\n        Hint 3</a>\n      </h4>\n    </div>\n    <div id=\"collapse3-5\" class=\"panel-collapse collapse\">\n      <div class=\"panel-body\">Type:<br>\n      sqlContext.sql(\"select * from world_bank limit 2\").show()<br></div>\n    </div>\n  </div>\n</div> \n"
        }, 
        {
            "metadata": {
                "collapsed": false
            }, 
            "cell_type": "code", 
            "outputs": [], 
            "execution_count": 7, 
            "source": "#Use SQL to query the table and print the output\n\n"
        }, 
        {
            "metadata": {}, 
            "cell_type": "markdown", 
            "source": "### Step 5.1 - Writing SQL Statements\n<br>\nTry writing the next three sections yourself first.   Each hint contains the solution for that section.   We provide this here because this is more SQL than Spark and not everyone is familar with SQL.  Nor is this an SQL class!\n<br><br>\n <div class=\"panel-group\" id=\"accordion-51\">\n  <div class=\"panel panel-default\">\n    <div class=\"panel-heading\">\n      <h4 class=\"panel-title\">\n        <a data-toggle=\"collapse\" data-parent=\"#accordion-51\" href=\"#collapse1-51\">\n        Hint 1</a>\n      </h4>\n    </div>\n    <div id=\"collapse1-51\" class=\"panel-collapse collapse\">\n      <div class=\"panel-body\">sqlContext.sql(\"select * from world_bank limit 2\").toPandas()</div>\n    </div>\n  </div>\n  <div class=\"panel panel-default\">\n    <div class=\"panel-heading\">\n      <h4 class=\"panel-title\">\n        <a data-toggle=\"collapse\" data-parent=\"#accordion-51\" href=\"#collapse2-51\">\n        Hint 2</a>\n      </h4>\n    </div>\n    <div id=\"collapse2-51\" class=\"panel-collapse collapse\">\n      <div class=\"panel-body\">sqlContext.sql(\"select regionname, count(*) as regioncount from world_bank group by regionname order by regioncount desc\").toPandas()</div>\n    </div>\n  </div>\n  <div class=\"panel panel-default\">\n    <div class=\"panel-heading\">\n      <h4 class=\"panel-title\">\n        <a data-toggle=\"collapse\" data-parent=\"#accordion-51\" href=\"#collapse3-51\">\n        Hint 3</a>\n      </h4>\n    </div>\n    <div id=\"collapse3-51\" class=\"panel-collapse collapse\">\n      <div class=\"panel-body\">sqlContext.sql(\"select sector.Name from world_bank limit 5\").toPandas()</div>\n    </div>\n  </div>\n</div> "
        }, 
        {
            "metadata": {
                "collapsed": false
            }, 
            "cell_type": "code", 
            "outputs": [], 
            "execution_count": 8, 
            "source": "#Extra credit, take the DataFrame you created with the two records and convert it into a Pandas DataFrame\n\n"
        }, 
        {
            "metadata": {
                "collapsed": false
            }, 
            "cell_type": "code", 
            "outputs": [], 
            "execution_count": 9, 
            "source": "# Now calculate a simple count based on a group, for example \"regionname\".   Return the regionname and a count of the values for that regionname. \n\n"
        }, 
        {
            "metadata": {
                "collapsed": false
            }, 
            "cell_type": "code", 
            "outputs": [], 
            "execution_count": 10, 
            "source": "# With JSON data you can reference the nested data.  \n# If you look at the Schema above you can see that sector.Name is a nested column.\n# Select that column and limit to a reasonable output (say five rows)\n\n"
        }, 
        {
            "metadata": {}, 
            "cell_type": "markdown", 
            "source": "## Step 6 - Creating Simple Graphs\n<br>\nCreate some simple graphs using the [matplotlib](http://matplotlib.org/1.5.3/index.html) and [numpy](http://www.numpy.org/) libraries\n<br>\nThe \"%matplotlib inline\" statement is used to ensure that graphs are drawn within the notebook instead of popping up as separate windows.\n\nMake SURE you actually run this cell!"
        }, 
        {
            "metadata": {
                "collapsed": true
            }, 
            "cell_type": "code", 
            "outputs": [], 
            "execution_count": 44, 
            "source": "# Load the libraries\n%matplotlib inline \nimport matplotlib.pyplot as plt, numpy as np"
        }, 
        {
            "metadata": {
                "collapsed": false
            }, 
            "cell_type": "markdown", 
            "source": "### Step 6.1 - Create the SQL data\nWrite the sql statement and look at the data, remember to add <i>.toPandas()</i> for a formatted display. An easier option is to create a variable and set it to the SQL statement.\n#### First create a SQL statement that is a reasonable number of items\nFor example, you can count the number of projects (rows) by countryname\n<br>or in other words: \n<br>count(*), countryname from table group by countryname<br><br>\n\n <div class=\"panel-group\" id=\"accordion-61\">\n  <div class=\"panel panel-default\">\n    <div class=\"panel-heading\">\n      <h4 class=\"panel-title\">\n        <a data-toggle=\"collapse\" data-parent=\"#accordion-61\" href=\"#collapse1-61\">\n        Hint 1</a>\n      </h4>\n    </div>\n    <div id=\"collapse1-61\" class=\"panel-collapse collapse\">\n      <div class=\"panel-body\">Type:<br>\nquery = \"select count(*) as Count, countryname from world_bank group by countryname\"<br></div>\n    </div>\n  </div>\n  <div class=\"panel panel-default\">\n    <div class=\"panel-heading\">\n      <h4 class=\"panel-title\">\n        <a data-toggle=\"collapse\" data-parent=\"#accordion-61\" href=\"#collapse2-61\">\n        Hint 2</a>\n      </h4>\n    </div>\n    <div id=\"collapse2-61\" class=\"panel-collapse collapse\">\n      <div class=\"panel-body\">Type:<br>\n      chart1_df = sqlContext.sql(query).toPandas()<br>\nprint chart1_df<br></div>\n    </div>\n  </div>\n  <div class=\"panel panel-default\">\n    <div class=\"panel-heading\">\n      <h4 class=\"panel-title\">\n        <a data-toggle=\"collapse\" data-parent=\"#accordion-61\" href=\"#collapse3-61\">\n        Advanced Optional 1</a>\n      </h4>\n    </div>\n    <div id=\"collapse3-61\" class=\"panel-collapse collapse\">\n      <div class=\"panel-body\">Printing the result isn't as nicely formatted.   What command gives you a nicely formatted output?   Use that instead.</div>\n    </div>\n  </div>\n</div> \n"
        }, 
        {
            "metadata": {
                "collapsed": false
            }, 
            "cell_type": "code", 
            "outputs": [], 
            "execution_count": 11, 
            "source": "# create the query to obtain the number of projects by countryname, save to a variable and print that variable\n\n"
        }, 
        {
            "metadata": {}, 
            "cell_type": "markdown", 
            "source": "### Step 6.2 - Create charts based on the SQL data\n<br>\nHere we wish to create a chart based on the SQL data we just obtained.   Python is an excellent choice when you need to create charts because of the variety and power of the charting libraries available.   The one we are using here is for Pandas.   Specifically the plot() method.   Documentation can be found <a href=\"http://pandas.pydata.org/pandas-docs/stable/generated/pandas.DataFrame.plot.html\">here</a>.\n\n <div class=\"panel-group\" id=\"accordion-62\">\n  <div class=\"panel panel-default\">\n    <div class=\"panel-heading\">\n      <h4 class=\"panel-title\">\n        <a data-toggle=\"collapse\" data-parent=\"#accordion-1\" href=\"#collapse1-62\">\n        Hint 1</a>\n      </h4>\n    </div>\n    <div id=\"collapse1-62\" class=\"panel-collapse collapse\">\n      <div class=\"panel-body\">Type:<br>\n      chart1_df.plot(kind='bar', x='countryname', y='Count', figsize=(12, 5))</div>\n    </div>\n  </div>\n  <div class=\"panel panel-default\">\n    <div class=\"panel-heading\">\n      <h4 class=\"panel-title\">\n        <a data-toggle=\"collapse\" data-parent=\"#accordion-62\" href=\"#collapse2-62\">\n       Advanced Optional 1</a>\n      </h4>\n    </div>\n    <div id=\"collapse2-62\" class=\"panel-collapse collapse\">\n      <div class=\"panel-body\">The table contains too much data.   Change the SQL statement to return a smaller group of values like 30 or 40<br></div>\n    </div>\n  </div>\n  <div class=\"panel panel-default\">\n    <div class=\"panel-heading\">\n      <h4 class=\"panel-title\">\n        <a data-toggle=\"collapse\" data-parent=\"#accordion-62\" href=\"#collapse3-62\">\n        Advanced Optional 2</a>\n      </h4>\n    </div>\n    <div id=\"collapse3-62\" class=\"panel-collapse collapse\">\n      <div class=\"panel-body\">Looking at the Pandas <i>plot()</i> documentation try other styles of plotting.   Look <a href=\"http://pandas.pydata.org/pandas-docs/version/0.18.1/visualization.html\">here</a> for ideas.<br></div>\n    </div>\n  </div>\n</div> \n"
        }, 
        {
            "metadata": {
                "collapsed": false
            }, 
            "cell_type": "code", 
            "outputs": [], 
            "execution_count": 12, 
            "source": "# Now take the variable (or same sql statement) and use the method:\n# .plot(kind='bar', x='countryname', y='Count', figsize=(12, 5)) to plot a graph\n\n"
        }, 
        {
            "metadata": {}, 
            "cell_type": "markdown", 
            "source": "## Step 7 - Creating a DataFrame\n<br>\nNot all data comes with a defined (or derivable) schema like JSON.   Sometimes we have the data first and <b>then</b> need to create a schema for it.<br>\nTry adding a schema to an RDD to create a DataFrame.<br>\nFirst, you need to create an RDD. This can be done with a loop or as\nseen in the instructor's example, or more simply by assigning values to an array.\n<br><br>"
        }, 
        {
            "metadata": {
                "collapsed": false
            }, 
            "cell_type": "code", 
            "outputs": [
                {
                    "metadata": {}, 
                    "output_type": "execute_result", 
                    "execution_count": 74, 
                    "data": {
                        "text/plain": "[[1, 1, 1], [2, 2, 2], [3, 3, 3], ['4a', '4a', '4a'], [5, 5, 5]]"
                    }
                }
            ], 
            "execution_count": 74, 
            "source": "# Default array defined below. Feel free to change as desired.\narray=[[1,1,1],[2,2,2],[3,3,3],[\"4a\",\"4a\",\"4a\"],[5,5,5]]\nmy_rdd = sc.parallelize(array)\nmy_rdd.collect()"
        }, 
        {
            "metadata": {}, 
            "cell_type": "markdown", 
            "source": "### Step 7.1 - Second, you need to add a schema to the RDD you created in the previous code block.\nUse first the StructField method, following these steps:<br>\n1- Define your schema columns as a string<br>\n2- Build the schema object using StructField<br>\n3- Apply the schema object to the RDD<br>\n\nNote: The cell below is missing some code and will not run properly until you add in some missing parts.\n<br><br>\n<div class=\"panel-group\" id=\"accordion-71\">\n  <div class=\"panel panel-default\">\n    <div class=\"panel-heading\">\n      <h4 class=\"panel-title\">\n        <a data-toggle=\"collapse\" data-parent=\"#accordion-71\" href=\"#collapse1-71\">\n        Hint 1</a>\n      </h4>\n    </div>\n    <div id=\"collapse1-71\" class=\"panel-collapse collapse\">\n      <div class=\"panel-body\">The schema string is simply the space-separated list of column names (i.e. \"var1 var2 var3\")<br></div>\n    </div>\n  </div>\n  <div class=\"panel panel-default\">\n    <div class=\"panel-heading\">\n      <h4 class=\"panel-title\">\n        <a data-toggle=\"collapse\" data-parent=\"#accordion-71\" href=\"#collapse2-71\">\n        Hint 2</a>\n      </h4>\n    </div>\n    <div id=\"collapse2-71\" class=\"panel-collapse collapse\">\n      <div class=\"panel-body\">The type should be IntegerType or StringType.   Note that because we are applying this is a loop *everything* will be an Integer or String<br></div>\n    </div>\n  </div>\n  <div class=\"panel panel-default\">\n    <div class=\"panel-heading\">\n      <h4 class=\"panel-title\">\n        <a data-toggle=\"collapse\" data-parent=\"#accordion-71\" href=\"#collapse3-71\">\n        Hint 3</a>\n      </h4>\n    </div>\n    <div id=\"collapse3-71\" class=\"panel-collapse collapse\">\n      <div class=\"panel-body\">Use the RDD you created above and apply the schema to it i.e.<br>\n      schemaExample = sqlContext.createDataFrame(my_rdd, schema)\n      </div>\n    </div>\n  </div>\n    <div class=\"panel panel-default\">\n    <div class=\"panel-heading\">\n      <h4 class=\"panel-title\">\n        <a data-toggle=\"collapse\" data-parent=\"#accordion-71\" href=\"#collapse4-71\">\n        Hint 4</a>\n      </h4>\n    </div>\n    <div id=\"collapse4-71\" class=\"panel-collapse collapse\">\n      <div class=\"panel-body\">We really don't need to tell you a name to use for your temp table do we?</div>\n    </div>\n  </div>\n</div> \n"
        }, 
        {
            "metadata": {
                "collapsed": true
            }, 
            "cell_type": "code", 
            "outputs": [], 
            "execution_count": 75, 
            "source": "from pyspark.sql.types import *\n\n# The schema is encoded in a string. Complete the string below\nschemaString = \"var1 var2 var3\"\n\n# MissingType() should be either StringType() or IntegerType(). Please replace as required.\nfields = [StructField(field_name, StringType(), True) for field_name in schemaString.split()]\nschema = StructType(fields)\n\n# Apply the schema to the RDD.\nschemaExample = sqlContext.createDataFrame(my_rdd, schema)\n\n# Register the DataFrame as a table. Add table name below as parameter to registerTempTable.\nschemaExample.registerTempTable(\"myRDDTempTable\")\n"
        }, 
        {
            "metadata": {}, 
            "cell_type": "markdown", 
            "source": "### Step 7.2 - Thirdly, write some SQL statements to verify that you successfully added a schema to your RDD\n<br>\n <div class=\"panel-group\" id=\"accordion-72\">\n  <div class=\"panel panel-default\">\n    <div class=\"panel-heading\">\n      <h4 class=\"panel-title\">\n        <a data-toggle=\"collapse\" data-parent=\"#accordion-72\" href=\"#collapse1-72\">\n        Hint 1</a>\n      </h4>\n    </div>\n    <div id=\"collapse1-72\" class=\"panel-collapse collapse\">\n      <div class=\"panel-body\">sqlContext.sql(\"select * from myRDDTempTable\").toPandas()</div>\n    </div>\n  </div>\n  <div class=\"panel panel-default\">\n    <div class=\"panel-heading\">\n      <h4 class=\"panel-title\">\n        <a data-toggle=\"collapse\" data-parent=\"#accordion-72\" href=\"#collapse2-72\">\n        Advanced Optional 1</a>\n      </h4>\n    </div>\n    <div id=\"collapse2-72\" class=\"panel-collapse collapse\">\n      <div class=\"panel-body\">What is the type is changed to IntegerType (or StringType).   Any change in the results?</div>\n    </div>\n  </div>\n  <div class=\"panel panel-default\">\n    <div class=\"panel-heading\">\n      <h4 class=\"panel-title\">\n        <a data-toggle=\"collapse\" data-parent=\"#accordion-72\" href=\"#collapse3-72\">\n        Advanced Optional 2</a>\n      </h4>\n    </div>\n    <div id=\"collapse3-72\" class=\"panel-collapse collapse\">\n      <div class=\"panel-body\">Try to do some specific queries on the data (i.e.)<br>\n      sqlContext.sql(\"select * from myRDDTempTable where var3 > 2\").toPandas()<br>\n      Does this work regardless of the data type (i.e. IntegerType or StringType)?<br>\n      What if you change some of the input values (i.e. change all 4s to \"4a\")<br></div>\n    </div>\n  </div>\n</div> "
        }, 
        {
            "metadata": {
                "collapsed": false
            }, 
            "cell_type": "code", 
            "outputs": [], 
            "execution_count": 13, 
            "source": "#Run some SQL statements on your newly created DataFrame and display the output\n#sqlContext.sql(\"select * from myRDDTempTable\").toPandas()\n\n"
        }, 
        {
            "metadata": {}, 
            "cell_type": "markdown", 
            "source": "## Step 8\n### Reading from an external data source\nIf you have time, this is a good example to show you how to read from other datasources.  <br><br>\nIn a different browser tab, create a dashDB service, add credentials and come back to this notebook. <br>If you are using Data Science Experience, you need to log into Bluemix and create a dashDB instance.   The login and password should be the same as for DSE.<br>\nEach dashDB instance in Bluemix is created with a \"GOSALES\" set of tables which we can reuse for the purpose of this example. (You can create your own tables if you wish...)<br><br>Replace the Xs in the cell below with proper credentials and verify access to dashDB tables.<br><br>\nYou can read from any database that you can connect to through jdbc.  Here is the [documentation](http://spark.apache.org/docs/latest/sql-programming-guide.html#jdbc-to-other-databases)\n<br><br>\n <div class=\"panel-group\" id=\"accordion-8\">\n  <div class=\"panel panel-default\">\n    <div class=\"panel-heading\">\n      <h4 class=\"panel-title\">\n        <a data-toggle=\"collapse\" data-parent=\"#accordion-8\" href=\"#collapse1-8\">\n        Hint 1</a>\n      </h4>\n    </div>\n    <div id=\"collapse1-8\" class=\"panel-collapse collapse\">\n      <div class=\"panel-body\">To connect to a general dashDB instance:<br>\n      url=\"\"<br>\nuser=\"\"<br>\npassword=\"\"<br>\nconnection=\"jdbc:db2://\" + url + \":50000/BLUDB:user=\" + user + \";password=\" + password + \";\"<br></div>\n    </div>\n  </div>\n  <div class=\"panel panel-default\">\n    <div class=\"panel-heading\">\n      <h4 class=\"panel-title\">\n        <a data-toggle=\"collapse\" data-parent=\"#accordion-8\" href=\"#collapse2-8\">\n        Advanced Optional</a>\n      </h4>\n    </div>\n    <div id=\"collapse2-8\" class=\"panel-collapse collapse\">\n      <div class=\"panel-body\">Create your own dashDB instance in Bluemix and connect to it</div>\n    </div>\n  </div>\n</div> \n"
        }, 
        {
            "metadata": {
                "collapsed": false
            }, 
            "cell_type": "code", 
            "outputs": [], 
            "execution_count": null, 
            "source": "url=\"\"\nuser=\"\"\npassword=\"\"\nconnection=\"jdbc:db2://\" + url + \":50000/BLUDB:user=\" + user + \";password=\" + password + \";\"\n\nsalesDF = sqlContext.read.format('jdbc').\\\n          options(url=connection,\\\n                  dbtable='GOSALES.BRANCH').load()\nsalesDF.show()\n"
        }, 
        {
            "metadata": {
                "collapsed": true
            }, 
            "cell_type": "code", 
            "outputs": [], 
            "execution_count": null, 
            "source": ""
        }
    ], 
    "nbformat_minor": 0, 
    "nbformat": 4
}